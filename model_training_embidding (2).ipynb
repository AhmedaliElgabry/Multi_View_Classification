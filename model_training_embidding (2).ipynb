{
  "nbformat": 4,
  "nbformat_minor": 0,
  "metadata": {
    "colab": {
      "name": "model_training_embidding.ipynb",
      "provenance": []
    },
    "kernelspec": {
      "name": "python3",
      "display_name": "Python 3"
    }
  },
  "cells": [
    {
      "cell_type": "markdown",
      "metadata": {
        "id": "ZVokm2h_aiMQ",
        "colab_type": "text"
      },
      "source": [
        "\n",
        "**1. Dataset Loading**"
      ]
    },
    {
      "cell_type": "code",
      "metadata": {
        "id": "v0xF-nMqPmh5",
        "colab_type": "code",
        "colab": {
          "base_uri": "https://localhost:8080/",
          "height": 54
        },
        "outputId": "85abe0e9-7757-44f4-9603-7c22eb26f7ea"
      },
      "source": [
        "from google.colab import drive\n",
        "drive.mount('/content/drive')"
      ],
      "execution_count": 1,
      "outputs": [
        {
          "output_type": "stream",
          "text": [
            "Drive already mounted at /content/drive; to attempt to forcibly remount, call drive.mount(\"/content/drive\", force_remount=True).\n"
          ],
          "name": "stdout"
        }
      ]
    },
    {
      "cell_type": "code",
      "metadata": {
        "id": "KfcAUWr1Pu8_",
        "colab_type": "code",
        "colab": {
          "base_uri": "https://localhost:8080/",
          "height": 34
        },
        "outputId": "050c4c7b-89f2-44de-a9e3-e3c15fc38322"
      },
      "source": [
        "cd /content/drive/My Drive/Multi_View_Classification/Feature_Extraction_code_After_Modification"
      ],
      "execution_count": 2,
      "outputs": [
        {
          "output_type": "stream",
          "text": [
            "/content/drive/My Drive/Multi_View_Classification/Feature_Extraction_code_After_Modification\n"
          ],
          "name": "stdout"
        }
      ]
    },
    {
      "cell_type": "code",
      "metadata": {
        "id": "YFStvOnzP5Bg",
        "colab_type": "code",
        "colab": {
          "base_uri": "https://localhost:8080/",
          "height": 34
        },
        "outputId": "e768e889-d16e-4ba2-f5a0-e04f89024891"
      },
      "source": [
        "cd Data_Final_Version/"
      ],
      "execution_count": 3,
      "outputs": [
        {
          "output_type": "stream",
          "text": [
            "/content/drive/My Drive/Multi_View_Classification/Feature_Extraction_code_After_Modification/Data_Final_Version\n"
          ],
          "name": "stdout"
        }
      ]
    },
    {
      "cell_type": "code",
      "metadata": {
        "id": "dhMm-OkUP7jv",
        "colab_type": "code",
        "colab": {}
      },
      "source": [
        "import pandas as pd\n",
        "import numpy as np\n",
        "import tensorflow as tf\n",
        "from math import floor"
      ],
      "execution_count": 4,
      "outputs": []
    },
    {
      "cell_type": "code",
      "metadata": {
        "id": "5HYyHLhEQF1b",
        "colab_type": "code",
        "colab": {}
      },
      "source": [
        "data = pd.read_excel('review_final_version.xlsx')"
      ],
      "execution_count": 5,
      "outputs": []
    },
    {
      "cell_type": "code",
      "metadata": {
        "id": "uKdHVeweQy9N",
        "colab_type": "code",
        "colab": {
          "base_uri": "https://localhost:8080/",
          "height": 238
        },
        "outputId": "7dfb07c1-0168-46d7-f48f-0115dc3c958d"
      },
      "source": [
        "data.columns"
      ],
      "execution_count": 6,
      "outputs": [
        {
          "output_type": "execute_result",
          "data": {
            "text/plain": [
              "Index(['Unnamed: 0', 'RD(r)', 'EXT(r)', 'ETF(r)', 'TRR(r)', 'BRR(r)', 'ERD(r)',\n",
              "       'RL(r)', 'Rank(r)', 'RFPP(r)', 'RSPP(r)', 'RFTAPP(r)', 'RSAPP(r)',\n",
              "       'RSW(r)', 'ROW(r)', 'RInW(r)', 'RImW(r)', 'RPW(r)', 'RNW(r)',\n",
              "       'Reviewer_id_from_ReviewContent_Sortedby_Product_wise',\n",
              "       'Product_id_from_ReviewContent_Sortedby_Product_wise',\n",
              "       'Date_from_ReviewContent_Sortedby_Product_wise',\n",
              "       'Text_from_ReviewContent_Sortedby_Product_wise',\n",
              "       'Reviewer_id_fromMeta_sortby_productwise',\n",
              "       'Product_id_fromMeta_sortby_productwise',\n",
              "       'Rating_fromMeta_sortby_productwise', 'Label_from_meta_product_wise',\n",
              "       'Date_fromMeta_sortby_productwise', 'Count (P)',\n",
              "       'Label_Labels_for_reviews', 'Reviewer_id_from_Labels_for_reviews'],\n",
              "      dtype='object')"
            ]
          },
          "metadata": {
            "tags": []
          },
          "execution_count": 6
        }
      ]
    },
    {
      "cell_type": "code",
      "metadata": {
        "id": "3kfURrp63WQn",
        "colab_type": "code",
        "colab": {}
      },
      "source": [
        "data['Text_from_ReviewContent_Sortedby_Product_wise'].replace('', np.nan, inplace=True)\n",
        "data.dropna(subset=['Text_from_ReviewContent_Sortedby_Product_wise'], inplace=True)\n"
      ],
      "execution_count": 7,
      "outputs": []
    },
    {
      "cell_type": "code",
      "metadata": {
        "id": "dhahWqW6Q5Y7",
        "colab_type": "code",
        "colab": {}
      },
      "source": [
        "xData = data[['Text_from_ReviewContent_Sortedby_Product_wise']]\n",
        "yData = data[['Label_Labels_for_reviews']]"
      ],
      "execution_count": 8,
      "outputs": []
    },
    {
      "cell_type": "code",
      "metadata": {
        "id": "m_Eta6Ah4_1P",
        "colab_type": "code",
        "colab": {}
      },
      "source": [
        "from sklearn.model_selection import train_test_split\n",
        "xtrain, xtest, ytrain, ytest = train_test_split(xData, yData,train_size = 0.75, test_size=0.25)"
      ],
      "execution_count": 9,
      "outputs": []
    },
    {
      "cell_type": "code",
      "metadata": {
        "id": "PDXQKxqkhjVh",
        "colab_type": "code",
        "colab": {}
      },
      "source": [
        "ytrain = ytrain.replace(-1,0)\n",
        "ytest  = ytest.replace(-1,0)"
      ],
      "execution_count": 10,
      "outputs": []
    },
    {
      "cell_type": "code",
      "metadata": {
        "id": "n-rtvwd2V0De",
        "colab_type": "code",
        "colab": {}
      },
      "source": [
        "ytrain = ytrain.to_numpy()\n",
        "ytest  = ytest.to_numpy()\n",
        "xtrain = xtrain.to_numpy()\n",
        "xtest  = xtest.to_numpy()"
      ],
      "execution_count": 11,
      "outputs": []
    },
    {
      "cell_type": "code",
      "metadata": {
        "id": "BukrvYnUXBPa",
        "colab_type": "code",
        "colab": {
          "base_uri": "https://localhost:8080/",
          "height": 153
        },
        "outputId": "0e160c28-c44c-46f8-8d87-5e0f024cc8ad"
      },
      "source": [
        "print('xtrain shape: {} \\n'.format(xtrain.shape))\n",
        "print('ytrain shape: {} \\n'.format(ytrain.shape))\n",
        "print('xtest  shape: {} \\n'.format(xtest.shape))\n",
        "print('ytest  shape: {} \\n'.format(ytest.shape))"
      ],
      "execution_count": 12,
      "outputs": [
        {
          "output_type": "stream",
          "text": [
            "xtrain shape: (68178, 1) \n",
            "\n",
            "ytrain shape: (68178, 1) \n",
            "\n",
            "xtest  shape: (22727, 1) \n",
            "\n",
            "ytest  shape: (22727, 1) \n",
            "\n"
          ],
          "name": "stdout"
        }
      ]
    },
    {
      "cell_type": "markdown",
      "metadata": {
        "id": "4prOCAiSYZJ4",
        "colab_type": "text"
      },
      "source": [
        "\n",
        "**2. Get text Empeddings:**"
      ]
    },
    {
      "cell_type": "code",
      "metadata": {
        "id": "GF0TnNqXCuMi",
        "colab_type": "code",
        "colab": {}
      },
      "source": [
        "import tensorflow_hub as hub\n",
        "\n",
        "embed = hub.load(\"https://tfhub.dev/google/universal-sentence-encoder/4\")"
      ],
      "execution_count": 13,
      "outputs": []
    },
    {
      "cell_type": "code",
      "metadata": {
        "id": "aPESwJPrUBlc",
        "colab_type": "code",
        "colab": {
          "base_uri": "https://localhost:8080/",
          "height": 34
        },
        "outputId": "706c762e-1d82-4a9f-cbd2-9c9133b83d4a"
      },
      "source": [
        "xtrain = xtrain.reshape(1,-1)\n",
        "xtrain.shape"
      ],
      "execution_count": 14,
      "outputs": [
        {
          "output_type": "execute_result",
          "data": {
            "text/plain": [
              "(1, 68178)"
            ]
          },
          "metadata": {
            "tags": []
          },
          "execution_count": 14
        }
      ]
    },
    {
      "cell_type": "code",
      "metadata": {
        "id": "Ym8zN6-tXMc6",
        "colab_type": "code",
        "colab": {}
      },
      "source": [
        "n_splits = 6\n",
        "n = floor(len(xtrain[0])/n_splits)\n",
        "x = []\n",
        "for i in range(n_splits):\n",
        "  x.extend(embed(xtrain[0][i*n:(i+1)*n]))"
      ],
      "execution_count": 15,
      "outputs": []
    },
    {
      "cell_type": "code",
      "metadata": {
        "id": "kcmjL3yS8GTp",
        "colab_type": "code",
        "colab": {}
      },
      "source": [
        "empedded_xtrain = np.array(x)"
      ],
      "execution_count": null,
      "outputs": []
    },
    {
      "cell_type": "code",
      "metadata": {
        "id": "nLrCIGC-8XKd",
        "colab_type": "code",
        "colab": {}
      },
      "source": [
        ""
      ],
      "execution_count": null,
      "outputs": []
    },
    {
      "cell_type": "code",
      "metadata": {
        "id": "pHAuWjQ7mBZQ",
        "colab_type": "code",
        "colab": {
          "base_uri": "https://localhost:8080/",
          "height": 224
        },
        "outputId": "511b67ec-c1ac-472b-b8c4-bd9f880b32f4"
      },
      "source": [
        "!pip install yellowbrick"
      ],
      "execution_count": null,
      "outputs": [
        {
          "output_type": "stream",
          "text": [
            "Requirement already satisfied: yellowbrick in /usr/local/lib/python3.6/dist-packages (0.9.1)\n",
            "Requirement already satisfied: numpy>=1.13.0 in /usr/local/lib/python3.6/dist-packages (from yellowbrick) (1.18.5)\n",
            "Requirement already satisfied: scipy>=1.0.0 in /usr/local/lib/python3.6/dist-packages (from yellowbrick) (1.4.1)\n",
            "Requirement already satisfied: scikit-learn>=0.20 in /usr/local/lib/python3.6/dist-packages (from yellowbrick) (0.22.2.post1)\n",
            "Requirement already satisfied: cycler>=0.10.0 in /usr/local/lib/python3.6/dist-packages (from yellowbrick) (0.10.0)\n",
            "Requirement already satisfied: matplotlib!=3.0.0,>=1.5.1 in /usr/local/lib/python3.6/dist-packages (from yellowbrick) (3.2.2)\n",
            "Requirement already satisfied: joblib>=0.11 in /usr/local/lib/python3.6/dist-packages (from scikit-learn>=0.20->yellowbrick) (0.16.0)\n",
            "Requirement already satisfied: six in /usr/local/lib/python3.6/dist-packages (from cycler>=0.10.0->yellowbrick) (1.15.0)\n",
            "Requirement already satisfied: pyparsing!=2.0.4,!=2.1.2,!=2.1.6,>=2.0.1 in /usr/local/lib/python3.6/dist-packages (from matplotlib!=3.0.0,>=1.5.1->yellowbrick) (2.4.7)\n",
            "Requirement already satisfied: python-dateutil>=2.1 in /usr/local/lib/python3.6/dist-packages (from matplotlib!=3.0.0,>=1.5.1->yellowbrick) (2.8.1)\n",
            "Requirement already satisfied: kiwisolver>=1.0.1 in /usr/local/lib/python3.6/dist-packages (from matplotlib!=3.0.0,>=1.5.1->yellowbrick) (1.2.0)\n"
          ],
          "name": "stdout"
        }
      ]
    },
    {
      "cell_type": "code",
      "metadata": {
        "id": "CUBaQ8x8nc7y",
        "colab_type": "code",
        "colab": {}
      },
      "source": [
        "ylabel = ytrain.flatten()"
      ],
      "execution_count": null,
      "outputs": []
    },
    {
      "cell_type": "code",
      "metadata": {
        "id": "S5jfjjnYmKaZ",
        "colab_type": "code",
        "colab": {
          "base_uri": "https://localhost:8080/",
          "height": 433
        },
        "outputId": "05f4dffa-3791-48dc-ebf6-603ff9878ce3"
      },
      "source": [
        "from yellowbrick.target import class_balance\n",
        "\n",
        "# Use the quick method and immediately show the figure\n",
        "class_balance(ylabel)"
      ],
      "execution_count": null,
      "outputs": [
        {
          "output_type": "stream",
          "text": [
            "/usr/local/lib/python3.6/dist-packages/sklearn/utils/deprecation.py:144: FutureWarning: The sklearn.metrics.classification module is  deprecated in version 0.22 and will be removed in version 0.24. The corresponding classes / functions should instead be imported from sklearn.metrics. Anything that cannot be imported from sklearn.metrics is now part of the private API.\n",
            "  warnings.warn(message, FutureWarning)\n"
          ],
          "name": "stderr"
        },
        {
          "output_type": "execute_result",
          "data": {
            "text/plain": [
              "<matplotlib.axes._subplots.AxesSubplot at 0x7ff766c12630>"
            ]
          },
          "metadata": {
            "tags": []
          },
          "execution_count": 23
        },
        {
          "output_type": "display_data",
          "data": {
            "image/png": "[encoded data removed]",
            "text/plain": [
              "<Figure size 576x396 with 1 Axes>"
            ]
          },
          "metadata": {
            "tags": []
          }
        }
      ]
    },
    {
      "cell_type": "markdown",
      "metadata": {
        "id": "MDl7x7h_i9Du",
        "colab_type": "text"
      },
      "source": [
        "\n",
        "**3. Dense Deep Learning Model:**"
      ]
    },
    {
      "cell_type": "code",
      "metadata": {
        "id": "EBBe70IMQMvB",
        "colab_type": "code",
        "colab": {
          "base_uri": "https://localhost:8080/",
          "height": 1000
        },
        "outputId": "2eb6f8c0-b683-44a2-c9e1-40afe590d949"
      },
      "source": [
        "from keras.models import Sequential\n",
        "\n",
        "from keras.layers import Dense\n",
        "# define the keras model\n",
        "model = Sequential()\n",
        "model.add(Dense(12, input_dim=512, activation='relu'))\n",
        "model.add(Dense(8, activation='relu'))\n",
        "model.add(Dense(1,activation='sigmoid'))\n",
        "# compile the keras model\n",
        "model.compile(loss='binary_crossentropy', optimizer='adam', metrics=['accuracy'])\n",
        "# fit the keras model on the dataset\n",
        "model.fit(empedded_xtrain, ytrain, epochs=150, batch_size=10)\n",
        "\n",
        "# evaluate the keras model\n",
        "_, accuracy = model.evaluate(empedded_xtrain, ytrain)\n",
        "print('Accuracy: %.2f' % (accuracy*100))"
      ],
      "execution_count": null,
      "outputs": [
        {
          "output_type": "stream",
          "text": [
            "Epoch 1/150\n",
            "500/500 [==============================] - 1s 1ms/step - loss: 0.2740 - accuracy: 0.9348\n",
            "Epoch 2/150\n",
            "500/500 [==============================] - 1s 1ms/step - loss: 0.2239 - accuracy: 0.9350\n",
            "Epoch 3/150\n",
            "500/500 [==============================] - 1s 1ms/step - loss: 0.2175 - accuracy: 0.9350\n",
            "Epoch 4/150\n",
            "500/500 [==============================] - 1s 1ms/step - loss: 0.2126 - accuracy: 0.9350\n",
            "Epoch 5/150\n",
            "500/500 [==============================] - 1s 1ms/step - loss: 0.2099 - accuracy: 0.9350\n",
            "Epoch 6/150\n",
            "500/500 [==============================] - 1s 1ms/step - loss: 0.2072 - accuracy: 0.9350\n",
            "Epoch 7/150\n",
            "500/500 [==============================] - 1s 1ms/step - loss: 0.2047 - accuracy: 0.9350\n",
            "Epoch 8/150\n",
            "500/500 [==============================] - 1s 1ms/step - loss: 0.2024 - accuracy: 0.9352\n",
            "Epoch 9/150\n",
            "500/500 [==============================] - 1s 1ms/step - loss: 0.1990 - accuracy: 0.9358\n",
            "Epoch 10/150\n",
            "500/500 [==============================] - 1s 1ms/step - loss: 0.1960 - accuracy: 0.9372\n",
            "Epoch 11/150\n",
            "500/500 [==============================] - 1s 1ms/step - loss: 0.1912 - accuracy: 0.9384\n",
            "Epoch 12/150\n",
            "500/500 [==============================] - 1s 1ms/step - loss: 0.1879 - accuracy: 0.9402\n",
            "Epoch 13/150\n",
            "500/500 [==============================] - 1s 1ms/step - loss: 0.1830 - accuracy: 0.9412\n",
            "Epoch 14/150\n",
            "500/500 [==============================] - 1s 1ms/step - loss: 0.1779 - accuracy: 0.9430\n",
            "Epoch 15/150\n",
            "500/500 [==============================] - 1s 1ms/step - loss: 0.1723 - accuracy: 0.9448\n",
            "Epoch 16/150\n",
            "500/500 [==============================] - 1s 1ms/step - loss: 0.1669 - accuracy: 0.9456\n",
            "Epoch 17/150\n",
            "500/500 [==============================] - 1s 1ms/step - loss: 0.1606 - accuracy: 0.9486\n",
            "Epoch 18/150\n",
            "500/500 [==============================] - 1s 1ms/step - loss: 0.1556 - accuracy: 0.9474\n",
            "Epoch 19/150\n",
            "500/500 [==============================] - 1s 1ms/step - loss: 0.1508 - accuracy: 0.9510\n",
            "Epoch 20/150\n",
            "500/500 [==============================] - 1s 1ms/step - loss: 0.1466 - accuracy: 0.9534\n",
            "Epoch 21/150\n",
            "500/500 [==============================] - 1s 1ms/step - loss: 0.1408 - accuracy: 0.9546\n",
            "Epoch 22/150\n",
            "500/500 [==============================] - 1s 1ms/step - loss: 0.1366 - accuracy: 0.9560\n",
            "Epoch 23/150\n",
            "500/500 [==============================] - 1s 1ms/step - loss: 0.1323 - accuracy: 0.9586\n",
            "Epoch 24/150\n",
            "500/500 [==============================] - 1s 1ms/step - loss: 0.1286 - accuracy: 0.9594\n",
            "Epoch 25/150\n",
            "500/500 [==============================] - 1s 1ms/step - loss: 0.1251 - accuracy: 0.9586\n",
            "Epoch 26/150\n",
            "500/500 [==============================] - 1s 1ms/step - loss: 0.1205 - accuracy: 0.9606\n",
            "Epoch 27/150\n",
            "500/500 [==============================] - 1s 1ms/step - loss: 0.1163 - accuracy: 0.9618\n",
            "Epoch 28/150\n",
            "500/500 [==============================] - 1s 1ms/step - loss: 0.1119 - accuracy: 0.9636\n",
            "Epoch 29/150\n",
            "500/500 [==============================] - 1s 1ms/step - loss: 0.1079 - accuracy: 0.9662\n",
            "Epoch 30/150\n",
            "500/500 [==============================] - 1s 1ms/step - loss: 0.1048 - accuracy: 0.9650\n",
            "Epoch 31/150\n",
            "500/500 [==============================] - 1s 1ms/step - loss: 0.1008 - accuracy: 0.9674\n",
            "Epoch 32/150\n",
            "500/500 [==============================] - 1s 2ms/step - loss: 0.0977 - accuracy: 0.9684\n",
            "Epoch 33/150\n",
            "500/500 [==============================] - 1s 1ms/step - loss: 0.0951 - accuracy: 0.9710\n",
            "Epoch 34/150\n",
            "500/500 [==============================] - 1s 1ms/step - loss: 0.0910 - accuracy: 0.9712\n",
            "Epoch 35/150\n",
            "500/500 [==============================] - 1s 1ms/step - loss: 0.0875 - accuracy: 0.9730\n",
            "Epoch 36/150\n",
            "500/500 [==============================] - 1s 1ms/step - loss: 0.0839 - accuracy: 0.9748\n",
            "Epoch 37/150\n",
            "500/500 [==============================] - 1s 1ms/step - loss: 0.0811 - accuracy: 0.9752\n",
            "Epoch 38/150\n",
            "500/500 [==============================] - 1s 1ms/step - loss: 0.0777 - accuracy: 0.9762\n",
            "Epoch 39/150\n",
            "500/500 [==============================] - 1s 1ms/step - loss: 0.0753 - accuracy: 0.9790\n",
            "Epoch 40/150\n",
            "500/500 [==============================] - 1s 1ms/step - loss: 0.0723 - accuracy: 0.9784\n",
            "Epoch 41/150\n",
            "500/500 [==============================] - 1s 1ms/step - loss: 0.0707 - accuracy: 0.9784\n",
            "Epoch 42/150\n",
            "500/500 [==============================] - 1s 1ms/step - loss: 0.0673 - accuracy: 0.9796\n",
            "Epoch 43/150\n",
            "500/500 [==============================] - 1s 1ms/step - loss: 0.0662 - accuracy: 0.9798\n",
            "Epoch 44/150\n",
            "500/500 [==============================] - 1s 1ms/step - loss: 0.0624 - accuracy: 0.9812\n",
            "Epoch 45/150\n",
            "500/500 [==============================] - 1s 1ms/step - loss: 0.0601 - accuracy: 0.9826\n",
            "Epoch 46/150\n",
            "500/500 [==============================] - 1s 1ms/step - loss: 0.0572 - accuracy: 0.9822\n",
            "Epoch 47/150\n",
            "500/500 [==============================] - 1s 1ms/step - loss: 0.0537 - accuracy: 0.9844\n",
            "Epoch 48/150\n",
            "500/500 [==============================] - 1s 1ms/step - loss: 0.0533 - accuracy: 0.9854\n",
            "Epoch 49/150\n",
            "500/500 [==============================] - 1s 1ms/step - loss: 0.0506 - accuracy: 0.9830\n",
            "Epoch 50/150\n",
            "500/500 [==============================] - 1s 1ms/step - loss: 0.0488 - accuracy: 0.9854\n",
            "Epoch 51/150\n",
            "500/500 [==============================] - 1s 1ms/step - loss: 0.0473 - accuracy: 0.9854\n",
            "Epoch 52/150\n",
            "500/500 [==============================] - 1s 1ms/step - loss: 0.0436 - accuracy: 0.9862\n",
            "Epoch 53/150\n",
            "500/500 [==============================] - 1s 1ms/step - loss: 0.0441 - accuracy: 0.9874\n",
            "Epoch 54/150\n",
            "500/500 [==============================] - 1s 1ms/step - loss: 0.0417 - accuracy: 0.9870\n",
            "Epoch 55/150\n",
            "500/500 [==============================] - 1s 1ms/step - loss: 0.0382 - accuracy: 0.9884\n",
            "Epoch 56/150\n",
            "500/500 [==============================] - 1s 1ms/step - loss: 0.0380 - accuracy: 0.9890\n",
            "Epoch 57/150\n",
            "500/500 [==============================] - 1s 1ms/step - loss: 0.0363 - accuracy: 0.9888\n",
            "Epoch 58/150\n",
            "500/500 [==============================] - 1s 2ms/step - loss: 0.0343 - accuracy: 0.9886\n",
            "Epoch 59/150\n",
            "500/500 [==============================] - 1s 1ms/step - loss: 0.0311 - accuracy: 0.9910\n",
            "Epoch 60/150\n",
            "500/500 [==============================] - 1s 1ms/step - loss: 0.0309 - accuracy: 0.9912\n",
            "Epoch 61/150\n",
            "500/500 [==============================] - 1s 2ms/step - loss: 0.0277 - accuracy: 0.9920\n",
            "Epoch 62/150\n",
            "500/500 [==============================] - 1s 1ms/step - loss: 0.0291 - accuracy: 0.9924\n",
            "Epoch 63/150\n",
            "500/500 [==============================] - 1s 2ms/step - loss: 0.0283 - accuracy: 0.9918\n",
            "Epoch 64/150\n",
            "500/500 [==============================] - 1s 3ms/step - loss: 0.0250 - accuracy: 0.9930\n",
            "Epoch 65/150\n",
            "500/500 [==============================] - 1s 3ms/step - loss: 0.0234 - accuracy: 0.9934\n",
            "Epoch 66/150\n",
            "500/500 [==============================] - 1s 2ms/step - loss: 0.0229 - accuracy: 0.9928\n",
            "Epoch 67/150\n",
            "500/500 [==============================] - 1s 3ms/step - loss: 0.0221 - accuracy: 0.9928\n",
            "Epoch 68/150\n",
            "500/500 [==============================] - 1s 3ms/step - loss: 0.0207 - accuracy: 0.9946\n",
            "Epoch 69/150\n",
            "500/500 [==============================] - 1s 2ms/step - loss: 0.0198 - accuracy: 0.9942\n",
            "Epoch 70/150\n",
            "500/500 [==============================] - 1s 1ms/step - loss: 0.0170 - accuracy: 0.9954\n",
            "Epoch 71/150\n",
            "500/500 [==============================] - 1s 1ms/step - loss: 0.0190 - accuracy: 0.9938\n",
            "Epoch 72/150\n",
            "500/500 [==============================] - 1s 1ms/step - loss: 0.0181 - accuracy: 0.9956\n",
            "Epoch 73/150\n",
            "500/500 [==============================] - 1s 1ms/step - loss: 0.0148 - accuracy: 0.9970\n",
            "Epoch 74/150\n",
            "500/500 [==============================] - 1s 1ms/step - loss: 0.0149 - accuracy: 0.9962\n",
            "Epoch 75/150\n",
            "500/500 [==============================] - 1s 1ms/step - loss: 0.0148 - accuracy: 0.9966\n",
            "Epoch 76/150\n",
            "500/500 [==============================] - 1s 1ms/step - loss: 0.0139 - accuracy: 0.9972\n",
            "Epoch 77/150\n",
            "500/500 [==============================] - 1s 1ms/step - loss: 0.0157 - accuracy: 0.9962\n",
            "Epoch 78/150\n",
            "500/500 [==============================] - 1s 1ms/step - loss: 0.0118 - accuracy: 0.9976\n",
            "Epoch 79/150\n",
            "500/500 [==============================] - 1s 1ms/step - loss: 0.0137 - accuracy: 0.9968\n",
            "Epoch 80/150\n",
            "500/500 [==============================] - 1s 2ms/step - loss: 0.0140 - accuracy: 0.9978\n",
            "Epoch 81/150\n",
            "500/500 [==============================] - 1s 1ms/step - loss: 0.0153 - accuracy: 0.9960\n",
            "Epoch 82/150\n",
            "500/500 [==============================] - 1s 1ms/step - loss: 0.0120 - accuracy: 0.9978\n",
            "Epoch 83/150\n",
            "500/500 [==============================] - 1s 1ms/step - loss: 0.0110 - accuracy: 0.9980\n",
            "Epoch 84/150\n",
            "500/500 [==============================] - 1s 1ms/step - loss: 0.0125 - accuracy: 0.9968\n",
            "Epoch 85/150\n",
            "500/500 [==============================] - 1s 1ms/step - loss: 0.0115 - accuracy: 0.9980\n",
            "Epoch 86/150\n",
            "500/500 [==============================] - 1s 1ms/step - loss: 0.0094 - accuracy: 0.9986\n",
            "Epoch 87/150\n",
            "500/500 [==============================] - 1s 1ms/step - loss: 0.0109 - accuracy: 0.9980\n",
            "Epoch 88/150\n",
            "500/500 [==============================] - 1s 1ms/step - loss: 0.0110 - accuracy: 0.9980\n",
            "Epoch 89/150\n",
            "500/500 [==============================] - 1s 1ms/step - loss: 0.0108 - accuracy: 0.9980\n",
            "Epoch 90/150\n",
            "500/500 [==============================] - 1s 1ms/step - loss: 0.0084 - accuracy: 0.9988\n",
            "Epoch 91/150\n",
            "500/500 [==============================] - 1s 1ms/step - loss: 0.0078 - accuracy: 0.9992\n",
            "Epoch 92/150\n",
            "500/500 [==============================] - 1s 1ms/step - loss: 0.0113 - accuracy: 0.9976\n",
            "Epoch 93/150\n",
            "500/500 [==============================] - 1s 1ms/step - loss: 0.0102 - accuracy: 0.9978\n",
            "Epoch 94/150\n",
            "500/500 [==============================] - 1s 1ms/step - loss: 0.0122 - accuracy: 0.9968\n",
            "Epoch 95/150\n",
            "500/500 [==============================] - 1s 1ms/step - loss: 0.0057 - accuracy: 0.9992\n",
            "Epoch 96/150\n",
            "500/500 [==============================] - 1s 1ms/step - loss: 0.0084 - accuracy: 0.9988\n",
            "Epoch 97/150\n",
            "500/500 [==============================] - 1s 1ms/step - loss: 0.0063 - accuracy: 0.9992\n",
            "Epoch 98/150\n",
            "500/500 [==============================] - 1s 1ms/step - loss: 0.0212 - accuracy: 0.9938\n",
            "Epoch 99/150\n",
            "500/500 [==============================] - 1s 1ms/step - loss: 0.0086 - accuracy: 0.9984\n",
            "Epoch 100/150\n",
            "500/500 [==============================] - 1s 1ms/step - loss: 0.0069 - accuracy: 0.9992\n",
            "Epoch 101/150\n",
            "500/500 [==============================] - 1s 1ms/step - loss: 0.0065 - accuracy: 0.9990\n",
            "Epoch 102/150\n",
            "500/500 [==============================] - 1s 1ms/step - loss: 0.0066 - accuracy: 0.9992\n",
            "Epoch 103/150\n",
            "500/500 [==============================] - 1s 1ms/step - loss: 0.0181 - accuracy: 0.9950\n",
            "Epoch 104/150\n",
            "500/500 [==============================] - 1s 1ms/step - loss: 0.0080 - accuracy: 0.9982\n",
            "Epoch 105/150\n",
            "500/500 [==============================] - 1s 1ms/step - loss: 0.0070 - accuracy: 0.9988\n",
            "Epoch 106/150\n",
            "500/500 [==============================] - 1s 1ms/step - loss: 0.0056 - accuracy: 0.9992\n",
            "Epoch 107/150\n",
            "500/500 [==============================] - 1s 1ms/step - loss: 0.0087 - accuracy: 0.9984\n",
            "Epoch 108/150\n",
            "500/500 [==============================] - 1s 1ms/step - loss: 0.0150 - accuracy: 0.9960\n",
            "Epoch 109/150\n",
            "500/500 [==============================] - 1s 1ms/step - loss: 0.0082 - accuracy: 0.9976\n",
            "Epoch 110/150\n",
            "500/500 [==============================] - 1s 1ms/step - loss: 0.0081 - accuracy: 0.9986\n",
            "Epoch 111/150\n",
            "500/500 [==============================] - 1s 1ms/step - loss: 0.0064 - accuracy: 0.9990\n",
            "Epoch 112/150\n",
            "500/500 [==============================] - 1s 1ms/step - loss: 0.0074 - accuracy: 0.9988\n",
            "Epoch 113/150\n",
            "500/500 [==============================] - 1s 1ms/step - loss: 0.0052 - accuracy: 0.9994\n",
            "Epoch 114/150\n",
            "500/500 [==============================] - 1s 1ms/step - loss: 0.0080 - accuracy: 0.9990\n",
            "Epoch 115/150\n",
            "500/500 [==============================] - 1s 1ms/step - loss: 0.0051 - accuracy: 0.9994\n",
            "Epoch 116/150\n",
            "500/500 [==============================] - 1s 1ms/step - loss: 0.0111 - accuracy: 0.9976\n",
            "Epoch 117/150\n",
            "500/500 [==============================] - 1s 1ms/step - loss: 0.0064 - accuracy: 0.9988\n",
            "Epoch 118/150\n",
            "500/500 [==============================] - 1s 1ms/step - loss: 0.0076 - accuracy: 0.9988\n",
            "Epoch 119/150\n",
            "500/500 [==============================] - 1s 1ms/step - loss: 0.0105 - accuracy: 0.9972\n",
            "Epoch 120/150\n",
            "500/500 [==============================] - 1s 1ms/step - loss: 0.0105 - accuracy: 0.9970\n",
            "Epoch 121/150\n",
            "500/500 [==============================] - 1s 1ms/step - loss: 0.0055 - accuracy: 0.9988\n",
            "Epoch 122/150\n",
            "500/500 [==============================] - 1s 1ms/step - loss: 0.0072 - accuracy: 0.9990\n",
            "Epoch 123/150\n",
            "500/500 [==============================] - 1s 1ms/step - loss: 0.0058 - accuracy: 0.9992\n",
            "Epoch 124/150\n",
            "500/500 [==============================] - 1s 1ms/step - loss: 0.0071 - accuracy: 0.9990\n",
            "Epoch 125/150\n",
            "500/500 [==============================] - 1s 1ms/step - loss: 0.0080 - accuracy: 0.9984\n",
            "Epoch 126/150\n",
            "500/500 [==============================] - 1s 1ms/step - loss: 0.0111 - accuracy: 0.9964\n",
            "Epoch 127/150\n",
            "500/500 [==============================] - 1s 1ms/step - loss: 0.0072 - accuracy: 0.9986\n",
            "Epoch 128/150\n",
            "500/500 [==============================] - 1s 1ms/step - loss: 0.0056 - accuracy: 0.9990\n",
            "Epoch 129/150\n",
            "500/500 [==============================] - 1s 1ms/step - loss: 0.0067 - accuracy: 0.9990\n",
            "Epoch 130/150\n",
            "500/500 [==============================] - 1s 1ms/step - loss: 0.0057 - accuracy: 0.9988\n",
            "Epoch 131/150\n",
            "500/500 [==============================] - 1s 1ms/step - loss: 0.0068 - accuracy: 0.9990\n",
            "Epoch 132/150\n",
            "500/500 [==============================] - 1s 1ms/step - loss: 0.0087 - accuracy: 0.9988\n",
            "Epoch 133/150\n",
            "500/500 [==============================] - 1s 1ms/step - loss: 0.0084 - accuracy: 0.9984\n",
            "Epoch 134/150\n",
            "500/500 [==============================] - 1s 1ms/step - loss: 0.0104 - accuracy: 0.9968\n",
            "Epoch 135/150\n",
            "500/500 [==============================] - 1s 1ms/step - loss: 0.0065 - accuracy: 0.9984\n",
            "Epoch 136/150\n",
            "500/500 [==============================] - 1s 2ms/step - loss: 0.0064 - accuracy: 0.9988\n",
            "Epoch 137/150\n",
            "500/500 [==============================] - 2s 3ms/step - loss: 0.0057 - accuracy: 0.9990\n",
            "Epoch 138/150\n",
            "500/500 [==============================] - 1s 3ms/step - loss: 0.0057 - accuracy: 0.9992\n",
            "Epoch 139/150\n",
            "500/500 [==============================] - 1s 2ms/step - loss: 0.0083 - accuracy: 0.9982\n",
            "Epoch 140/150\n",
            "500/500 [==============================] - 1s 1ms/step - loss: 0.0070 - accuracy: 0.9988\n",
            "Epoch 141/150\n",
            "500/500 [==============================] - 1s 1ms/step - loss: 0.0044 - accuracy: 0.9994\n",
            "Epoch 142/150\n",
            "500/500 [==============================] - 1s 1ms/step - loss: 0.0156 - accuracy: 0.9958\n",
            "Epoch 143/150\n",
            "500/500 [==============================] - 1s 1ms/step - loss: 0.0083 - accuracy: 0.9984\n",
            "Epoch 144/150\n",
            "500/500 [==============================] - 1s 1ms/step - loss: 0.0045 - accuracy: 0.9992\n",
            "Epoch 145/150\n",
            "500/500 [==============================] - 1s 1ms/step - loss: 0.0055 - accuracy: 0.9990\n",
            "Epoch 146/150\n",
            "500/500 [==============================] - 1s 1ms/step - loss: 0.0052 - accuracy: 0.9992\n",
            "Epoch 147/150\n",
            "500/500 [==============================] - 1s 1ms/step - loss: 0.0064 - accuracy: 0.9990\n",
            "Epoch 148/150\n",
            "500/500 [==============================] - 1s 1ms/step - loss: 0.0056 - accuracy: 0.9992\n",
            "Epoch 149/150\n",
            "500/500 [==============================] - 1s 1ms/step - loss: 0.0080 - accuracy: 0.9990\n",
            "Epoch 150/150\n",
            "500/500 [==============================] - 1s 1ms/step - loss: 0.0080 - accuracy: 0.9980\n",
            "157/157 [==============================] - 0s 1ms/step - loss: 0.0086 - accuracy: 0.9976\n",
            "Accuracy: 99.76\n"
          ],
          "name": "stdout"
        }
      ]
    },
    {
      "cell_type": "code",
      "metadata": {
        "id": "sl0W-HW-WJDV",
        "colab_type": "code",
        "colab": {}
      },
      "source": [
        "xtest = xtest.reshape(1,-1)\n",
        "empedded_xtest = embed(xtest[0])"
      ],
      "execution_count": null,
      "outputs": []
    },
    {
      "cell_type": "code",
      "metadata": {
        "id": "4uH4Ih-dwHdJ",
        "colab_type": "code",
        "colab": {
          "base_uri": "https://localhost:8080/",
          "height": 292
        },
        "outputId": "0890b887-699d-4b94-b4cf-fb657ed4d45d"
      },
      "source": [
        "from sklearn.metrics import classification_report\n",
        "target_names = ['class 0','class 1']\n",
        "y_pred = model.predict_classes(empedded_xtest)\n",
        "print(classification_report(ytest, y_pred, target_names=target_names))"
      ],
      "execution_count": null,
      "outputs": [
        {
          "output_type": "stream",
          "text": [
            "WARNING:tensorflow:From <ipython-input-26-fcbd9736228c>:3: Sequential.predict_classes (from tensorflow.python.keras.engine.sequential) is deprecated and will be removed after 2021-01-01.\n",
            "Instructions for updating:\n",
            "Please use instead:* `np.argmax(model.predict(x), axis=-1)`,   if your model does multi-class classification   (e.g. if it uses a `softmax` last-layer activation).* `(model.predict(x) > 0.5).astype(\"int32\")`,   if your model does binary classification   (e.g. if it uses a `sigmoid` last-layer activation).\n"
          ],
          "name": "stdout"
        },
        {
          "output_type": "stream",
          "text": [
            "WARNING:tensorflow:From <ipython-input-26-fcbd9736228c>:3: Sequential.predict_classes (from tensorflow.python.keras.engine.sequential) is deprecated and will be removed after 2021-01-01.\n",
            "Instructions for updating:\n",
            "Please use instead:* `np.argmax(model.predict(x), axis=-1)`,   if your model does multi-class classification   (e.g. if it uses a `softmax` last-layer activation).* `(model.predict(x) > 0.5).astype(\"int32\")`,   if your model does binary classification   (e.g. if it uses a `sigmoid` last-layer activation).\n"
          ],
          "name": "stderr"
        },
        {
          "output_type": "stream",
          "text": [
            "              precision    recall  f1-score   support\n",
            "\n",
            "     class 0       0.12      0.06      0.08       347\n",
            "     class 1       0.93      0.96      0.95      4653\n",
            "\n",
            "    accuracy                           0.90      5000\n",
            "   macro avg       0.53      0.51      0.52      5000\n",
            "weighted avg       0.88      0.90      0.89      5000\n",
            "\n"
          ],
          "name": "stdout"
        }
      ]
    },
    {
      "cell_type": "markdown",
      "metadata": {
        "id": "b9vzbSfbmfWG",
        "colab_type": "text"
      },
      "source": [
        "\n",
        "**4. CNN Deep Learning Model:**"
      ]
    },
    {
      "cell_type": "code",
      "metadata": {
        "id": "suUE10vZmq1y",
        "colab_type": "code",
        "colab": {}
      },
      "source": [
        "from keras.models import Sequential\n",
        "from keras.layers import Dense\n",
        "from keras.layers import Flatten\n",
        "from keras.layers import Dropout\n",
        "from keras.layers.convolutional import Conv1D\n",
        "from keras.layers.convolutional import MaxPooling1D\n",
        "\n",
        "CNNmodel = Sequential()\n",
        "CNNmodel.add(Conv1D(filters=64, kernel_size=3, activation='relu', input_shape=(512,1)))\n",
        "CNNmodel.add(Conv1D(filters=64, kernel_size=3, activation='relu'))\n",
        "CNNmodel.add(Dropout(0.5))\n",
        "CNNmodel.add(MaxPooling1D(pool_size=2))\n",
        "CNNmodel.add(Flatten())\n",
        "CNNmodel.add(Dense(100, activation='relu'))\n",
        "CNNmodel.add(Dense(1, activation='softmax'))"
      ],
      "execution_count": null,
      "outputs": []
    },
    {
      "cell_type": "code",
      "metadata": {
        "id": "LOZqBJb7rWyD",
        "colab_type": "code",
        "colab": {}
      },
      "source": [
        "empedded_xtrain = empedded_xtrain.numpy().reshape(num_train_samples,512,1)\n",
        "empedded_xtest = empedded_xtest.numpy().reshape(num_test_samples,512,1)\n"
      ],
      "execution_count": null,
      "outputs": []
    },
    {
      "cell_type": "code",
      "metadata": {
        "id": "hGmflOhbsQxC",
        "colab_type": "code",
        "colab": {
          "base_uri": "https://localhost:8080/",
          "height": 34
        },
        "outputId": "039b46f3-d420-4721-9d29-d4cf878a2b4b"
      },
      "source": [
        "empedded_xtrain.shape"
      ],
      "execution_count": null,
      "outputs": [
        {
          "output_type": "execute_result",
          "data": {
            "text/plain": [
              "(5000, 512, 1)"
            ]
          },
          "metadata": {
            "tags": []
          },
          "execution_count": 29
        }
      ]
    },
    {
      "cell_type": "code",
      "metadata": {
        "id": "MtHqGJ0WnQtv",
        "colab_type": "code",
        "colab": {
          "base_uri": "https://localhost:8080/",
          "height": 1000
        },
        "outputId": "3a4052d0-c95b-4edd-ac67-fbb2192ca856"
      },
      "source": [
        "# compile the keras model\n",
        "CNNmodel.compile(loss='binary_crossentropy', optimizer='adam', metrics=['accuracy'])\n",
        "# fit the keras model on the dataset\n",
        "CNNmodel.fit(empedded_xtrain, ytrain, epochs=50, batch_size=10)\n",
        "\n",
        "# evaluate the keras model\n",
        "_, accuracy = CNNmodel.evaluate(empedded_xtrain, ytrain)\n",
        "print('Accuracy: %.2f' % (accuracy*100))"
      ],
      "execution_count": null,
      "outputs": [
        {
          "output_type": "stream",
          "text": [
            "Epoch 1/50\n",
            "500/500 [==============================] - 18s 35ms/step - loss: 0.9912 - accuracy: 0.9350\n",
            "Epoch 2/50\n",
            "500/500 [==============================] - 18s 35ms/step - loss: 0.9912 - accuracy: 0.9350\n",
            "Epoch 3/50\n",
            "500/500 [==============================] - 18s 35ms/step - loss: 0.9912 - accuracy: 0.9350\n",
            "Epoch 4/50\n",
            "500/500 [==============================] - 18s 36ms/step - loss: 0.9912 - accuracy: 0.9350\n",
            "Epoch 5/50\n",
            "500/500 [==============================] - 18s 35ms/step - loss: 0.9912 - accuracy: 0.9350\n",
            "Epoch 6/50\n",
            "500/500 [==============================] - 18s 35ms/step - loss: 0.9912 - accuracy: 0.9350\n",
            "Epoch 7/50\n",
            "500/500 [==============================] - 18s 35ms/step - loss: 0.9912 - accuracy: 0.9350\n",
            "Epoch 8/50\n",
            "500/500 [==============================] - 18s 36ms/step - loss: 0.9912 - accuracy: 0.9350\n",
            "Epoch 9/50\n",
            "500/500 [==============================] - 19s 37ms/step - loss: 0.9912 - accuracy: 0.9350\n",
            "Epoch 10/50\n",
            "500/500 [==============================] - 20s 40ms/step - loss: 0.9912 - accuracy: 0.9350\n",
            "Epoch 11/50\n",
            "500/500 [==============================] - 18s 35ms/step - loss: 0.9912 - accuracy: 0.9350\n",
            "Epoch 12/50\n",
            "500/500 [==============================] - 18s 35ms/step - loss: 0.9912 - accuracy: 0.9350\n",
            "Epoch 13/50\n",
            "500/500 [==============================] - 17s 35ms/step - loss: 0.9912 - accuracy: 0.9350\n",
            "Epoch 14/50\n",
            "500/500 [==============================] - 20s 39ms/step - loss: 0.9912 - accuracy: 0.9350\n",
            "Epoch 15/50\n",
            "500/500 [==============================] - 17s 35ms/step - loss: 0.9912 - accuracy: 0.9350\n",
            "Epoch 16/50\n",
            "500/500 [==============================] - 17s 34ms/step - loss: 0.9912 - accuracy: 0.9350\n",
            "Epoch 17/50\n",
            "500/500 [==============================] - 17s 34ms/step - loss: 0.9912 - accuracy: 0.9350\n",
            "Epoch 18/50\n",
            "500/500 [==============================] - 17s 34ms/step - loss: 0.9912 - accuracy: 0.9350\n",
            "Epoch 19/50\n",
            "500/500 [==============================] - 18s 35ms/step - loss: 0.9912 - accuracy: 0.9350\n",
            "Epoch 20/50\n",
            "500/500 [==============================] - 17s 35ms/step - loss: 0.9912 - accuracy: 0.9350\n",
            "Epoch 21/50\n",
            "500/500 [==============================] - 17s 35ms/step - loss: 0.9912 - accuracy: 0.9350\n",
            "Epoch 22/50\n",
            "500/500 [==============================] - 18s 35ms/step - loss: 0.9912 - accuracy: 0.9350\n",
            "Epoch 23/50\n",
            "500/500 [==============================] - 18s 36ms/step - loss: 0.9912 - accuracy: 0.9350\n",
            "Epoch 24/50\n",
            "500/500 [==============================] - 18s 35ms/step - loss: 0.9912 - accuracy: 0.9350\n",
            "Epoch 25/50\n",
            "500/500 [==============================] - 18s 35ms/step - loss: 0.9912 - accuracy: 0.9350\n",
            "Epoch 26/50\n",
            "500/500 [==============================] - 18s 35ms/step - loss: 0.9912 - accuracy: 0.9350\n",
            "Epoch 27/50\n",
            "500/500 [==============================] - 17s 35ms/step - loss: 0.9912 - accuracy: 0.9350\n",
            "Epoch 28/50\n",
            "500/500 [==============================] - 21s 43ms/step - loss: 0.9912 - accuracy: 0.9350\n",
            "Epoch 29/50\n",
            "500/500 [==============================] - 18s 36ms/step - loss: 0.9912 - accuracy: 0.9350\n",
            "Epoch 30/50\n",
            "500/500 [==============================] - 17s 35ms/step - loss: 0.9912 - accuracy: 0.9350\n",
            "Epoch 31/50\n",
            "500/500 [==============================] - 18s 37ms/step - loss: 0.9912 - accuracy: 0.9350\n",
            "Epoch 32/50\n",
            "500/500 [==============================] - 17s 35ms/step - loss: 0.9912 - accuracy: 0.9350\n",
            "Epoch 33/50\n",
            "500/500 [==============================] - 18s 37ms/step - loss: 0.9912 - accuracy: 0.9350\n",
            "Epoch 34/50\n",
            "500/500 [==============================] - 19s 38ms/step - loss: 0.9912 - accuracy: 0.9350\n",
            "Epoch 35/50\n",
            "500/500 [==============================] - 18s 35ms/step - loss: 0.9912 - accuracy: 0.9350\n",
            "Epoch 36/50\n",
            "500/500 [==============================] - 18s 36ms/step - loss: 0.9912 - accuracy: 0.9350\n",
            "Epoch 37/50\n",
            "500/500 [==============================] - 18s 35ms/step - loss: 0.9912 - accuracy: 0.9350\n",
            "Epoch 38/50\n",
            "500/500 [==============================] - 18s 35ms/step - loss: 0.9912 - accuracy: 0.9350\n",
            "Epoch 39/50\n",
            "500/500 [==============================] - 18s 35ms/step - loss: 0.9912 - accuracy: 0.9350\n",
            "Epoch 40/50\n",
            "500/500 [==============================] - 18s 35ms/step - loss: 0.9912 - accuracy: 0.9350\n",
            "Epoch 41/50\n",
            "500/500 [==============================] - 18s 35ms/step - loss: 0.9912 - accuracy: 0.9350\n",
            "Epoch 42/50\n",
            "500/500 [==============================] - 18s 35ms/step - loss: 0.9912 - accuracy: 0.9350\n",
            "Epoch 43/50\n",
            "500/500 [==============================] - 17s 35ms/step - loss: 0.9912 - accuracy: 0.9350\n",
            "Epoch 44/50\n",
            "500/500 [==============================] - 17s 35ms/step - loss: 0.9912 - accuracy: 0.9350\n",
            "Epoch 45/50\n",
            "500/500 [==============================] - 17s 35ms/step - loss: 0.9912 - accuracy: 0.9350\n",
            "Epoch 46/50\n",
            "500/500 [==============================] - 20s 39ms/step - loss: 0.9912 - accuracy: 0.9350\n",
            "Epoch 47/50\n",
            "500/500 [==============================] - 18s 37ms/step - loss: 0.9912 - accuracy: 0.9350\n",
            "Epoch 48/50\n",
            "500/500 [==============================] - 18s 36ms/step - loss: 0.9912 - accuracy: 0.9350\n",
            "Epoch 49/50\n",
            "500/500 [==============================] - 18s 37ms/step - loss: 0.9912 - accuracy: 0.9350\n",
            "Epoch 50/50\n",
            "500/500 [==============================] - 17s 34ms/step - loss: 0.9912 - accuracy: 0.9350\n",
            "157/157 [==============================] - 3s 19ms/step - loss: 0.9912 - accuracy: 0.9350\n",
            "Accuracy: 93.50\n"
          ],
          "name": "stdout"
        }
      ]
    },
    {
      "cell_type": "code",
      "metadata": {
        "id": "ZWREKd_k_kpN",
        "colab_type": "code",
        "colab": {
          "base_uri": "https://localhost:8080/",
          "height": 224
        },
        "outputId": "4992bdc7-09e5-484a-c28c-1b0e3bf70432"
      },
      "source": [
        "from sklearn.metrics import classification_report\n",
        "y_pred = CNNmodel.predict_classes(empedded_xtest)\n",
        "print(classification_report(ytest, y_pred, target_names=target_names))"
      ],
      "execution_count": null,
      "outputs": [
        {
          "output_type": "stream",
          "text": [
            "              precision    recall  f1-score   support\n",
            "\n",
            "     class 0       0.00      0.00      0.00       347\n",
            "     class 1       0.93      1.00      0.96      4653\n",
            "\n",
            "    accuracy                           0.93      5000\n",
            "   macro avg       0.47      0.50      0.48      5000\n",
            "weighted avg       0.87      0.93      0.90      5000\n",
            "\n"
          ],
          "name": "stdout"
        },
        {
          "output_type": "stream",
          "text": [
            "/usr/local/lib/python3.6/dist-packages/sklearn/metrics/_classification.py:1272: UndefinedMetricWarning: Precision and F-score are ill-defined and being set to 0.0 in labels with no predicted samples. Use `zero_division` parameter to control this behavior.\n",
            "  _warn_prf(average, modifier, msg_start, len(result))\n"
          ],
          "name": "stderr"
        }
      ]
    },
    {
      "cell_type": "markdown",
      "metadata": {
        "id": "4Jvf8Z04l66D",
        "colab_type": "text"
      },
      "source": [
        "\n",
        "**5. LogisticRegression Model:**"
      ]
    },
    {
      "cell_type": "code",
      "metadata": {
        "id": "6xaGv42ejEzF",
        "colab_type": "code",
        "colab": {}
      },
      "source": [
        "empedded_xtrain = empedded_xtrain.reshape(num_train_samples,512)\n",
        "empedded_xtest  = empedded_xtest.reshape(num_test_samples,512)"
      ],
      "execution_count": null,
      "outputs": []
    },
    {
      "cell_type": "code",
      "metadata": {
        "id": "W70s3Imxil_Z",
        "colab_type": "code",
        "colab": {
          "base_uri": "https://localhost:8080/",
          "height": 456
        },
        "outputId": "ef5fd319-b623-4ace-9642-b6f4bb10a5a8"
      },
      "source": [
        "from yellowbrick.classifier import ClassificationReport\n",
        "from sklearn.linear_model import LogisticRegression\n",
        "viz = ClassificationReport(LogisticRegression())\n",
        "viz.fit(empedded_xtrain, ytrain)\n",
        "viz.score(empedded_xtest, ytest)"
      ],
      "execution_count": null,
      "outputs": [
        {
          "output_type": "stream",
          "text": [
            "/usr/local/lib/python3.6/dist-packages/sklearn/utils/validation.py:760: DataConversionWarning: A column-vector y was passed when a 1d array was expected. Please change the shape of y to (n_samples, ), for example using ravel().\n",
            "  y = column_or_1d(y, warn=True)\n",
            "/usr/local/lib/python3.6/dist-packages/sklearn/metrics/_classification.py:1272: UndefinedMetricWarning: Precision and F-score are ill-defined and being set to 0.0 in labels with no predicted samples. Use `zero_division` parameter to control this behavior.\n",
            "  _warn_prf(average, modifier, msg_start, len(result))\n"
          ],
          "name": "stderr"
        },
        {
          "output_type": "execute_result",
          "data": {
            "text/plain": [
              "0.9306"
            ]
          },
          "metadata": {
            "tags": []
          },
          "execution_count": 35
        },
        {
          "output_type": "display_data",
          "data": {
            "image/png": "[encoded data removed]",
            "text/plain": [
              "<Figure size 576x396 with 2 Axes>"
            ]
          },
          "metadata": {
            "tags": []
          }
        }
      ]
    },
    {
      "cell_type": "code",
      "metadata": {
        "id": "8kydtd4liuGY",
        "colab_type": "code",
        "colab": {}
      },
      "source": [
        ""
      ],
      "execution_count": null,
      "outputs": []
    }
  ]
}